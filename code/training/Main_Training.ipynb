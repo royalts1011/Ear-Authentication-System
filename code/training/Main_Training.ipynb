{
 "cells": [
  {
   "cell_type": "code",
   "execution_count": null,
   "metadata": {},
   "outputs": [],
   "source": [
    "import sys\n",
    "sys.path.append('../..')\n",
    "import numpy as np\n",
    "import matplotlib.pyplot as plt\n",
    "import random\n",
    "import csv\n",
    "\n",
    "# PyTorch\n",
    "import torch\n",
    "import torch.nn as nn\n",
    "import torch.nn.functional as F\n",
    "from torchvision.utils import make_grid\n",
    "from torchvision.models.mobilenet import mobilenet_v2\n",
    "\n",
    "# own scripts\n",
    "import training.ds_loader\n",
    "import training.ds_transformations as td\n",
    "from training.helpers import cuda_conv\n",
    "from training.helpers import get_device\n",
    "import training.metrics as M\n",
    "from training.Training import Training\n",
    "from training.ContrastiveLossFunction import ContrastiveLossFunction"
   ]
  },
  {
   "cell_type": "code",
   "execution_count": null,
   "metadata": {},
   "outputs": [],
   "source": [
    "def imshow(img,text=None,should_save=False):\n",
    "    npimg = img.numpy()\n",
    "    plt.axis(\"off\")\n",
    "    if text:\n",
    "        plt.text(75, 8, text, style='italic',fontweight='bold',\n",
    "            bbox={'facecolor':'white', 'alpha':0.8, 'pad':10})\n",
    "    plt.imshow(np.transpose(npimg, (1, 2, 0)))\n",
    "    plt.show()    \n",
    "\n",
    "def show_plot(epochs, value1, value2, label1, label2, plt_number):\n",
    "    plt.figure(plt_number)\n",
    "    plt.plot(epochs,value1, label=label1)\n",
    "    plt.plot(epochs,value2, label=label2)\n",
    "    plt.legend()\n",
    "    plt.grid()"
   ]
  },
  {
   "cell_type": "code",
   "execution_count": null,
   "metadata": {},
   "outputs": [],
   "source": [
    "# Set Up All Configurations here\n",
    "class Config():\n",
    "    NN_SIAMESE = False\n",
    "    dataset_dir = '../dataset/'\n",
    "    train_batch_size = 32\n",
    "    val_batch_size = 32\n",
    "    test_batch_size = 32\n",
    "    vis_batch_size = 8\n",
    "    num_workers = 3\n",
    "    margin = 2.0\n",
    "    \n",
    "    EPOCHS= 50\n",
    "    LEARNINGRATE = 0.0001\n",
    "    #WEIGHT_DECAY = 0.0\n",
    "\n",
    "    TRESHOLD_VER = 0.9\n",
    "    is_small_resize = False"
   ]
  },
  {
   "cell_type": "code",
   "execution_count": null,
   "metadata": {
    "tags": []
   },
   "outputs": [],
   "source": [
    "def check(p):\n",
    "    return (p>=0 and p<=1)\n",
    "def percentage_split(num_classes, train_percentage, valid_percentage, test_percentage):\n",
    "    '''\n",
    "    This function return the amount of classes to be chosen, given the actual amount and the percentages for\n",
    "    the different sets\n",
    "    Arguments\n",
    "    ---------\n",
    "    num_classes:    Amount of classes in dataset\n",
    "    train_percentage:   Percentage of one, percentual size of train dataset\n",
    "    valid_percentage:   Percentage of one, percentual size of validation dataset\n",
    "    test_percentage:   Percentage of one, percentual size of test dataset. Can be Zero\n",
    "\n",
    "    Returns\n",
    "    ---------\n",
    "    The amount of classes for train, validation and test dataset\n",
    "    '''\n",
    "    assert round(train_percentage+valid_percentage+test_percentage, 1)==1.0, \"Percentages do not add up to 1\"\n",
    "    assert check(train_percentage) and check(valid_percentage) and check(test_percentage)\n",
    "\n",
    "    train = round(num_classes * train_percentage)\n",
    "    if test_percentage == 0:\n",
    "        valid = num_classes-train\n",
    "        test = test_percentage\n",
    "    else:\n",
    "        valid = round( (num_classes*valid_percentage) )\n",
    "        test = num_classes-train-valid\n",
    "    return train,valid,test\n",
    "\n",
    "def diff(first, second):\n",
    "    ''' computes the list diff\n",
    "    '''\n",
    "    second = set(second)\n",
    "    return [item for item in first if item not in second]"
   ]
  },
  {
   "cell_type": "code",
   "execution_count": null,
   "metadata": {
    "tags": []
   },
   "outputs": [],
   "source": [
    "# define indicies to split Data\n",
    "dset = ds_loader.get_dataset(data_path=Config.dataset_dir, transformation=td.get_transform('size_only', is_small=Config.is_small_resize) )\n",
    "N = len(dset)\n",
    "classes = [dset.class_to_idx[class_] for class_ in dset.classes]\n",
    "num_classes = len(classes)\n",
    "print(N)\n",
    "\n",
    "# Get amount of classes per set\n",
    "tr,va,te = percentage_split(num_classes=num_classes,\n",
    "                            train_percentage=0.7, \n",
    "                            valid_percentage=0.2,\n",
    "                            test_percentage=0.1\n",
    "                            )\n",
    "# create class separation\n",
    "train_classes = random.sample(classes, tr)\n",
    "classes = diff(classes, train_classes)\n",
    "valid_classes = random.sample(classes, va)\n",
    "classes = diff(classes, valid_classes)\n",
    "# Check if classes still has entries\n",
    "if classes:\n",
    "    test_classes = random.sample(classes, te)\n",
    "    classes = diff(classes, test_classes)\n",
    "\n",
    "train_indices, val_indices, test_indices = [],[],[]\n",
    "# go through\n",
    "for i,(_, class_idx) in enumerate(dset.imgs):\n",
    "    if class_idx in train_classes:\n",
    "        train_indices.append(i)\n",
    "        continue\n",
    "    if class_idx in valid_classes:\n",
    "        val_indices.append(i)\n",
    "        continue\n",
    "    if class_idx in test_classes:\n",
    "        test_indices.append(i)\n",
    "        continue\n"
   ]
  },
  {
   "cell_type": "code",
   "execution_count": null,
   "metadata": {
    "tags": []
   },
   "outputs": [],
   "source": [
    "# definde data loader\n",
    "# dl_train = ds_loader.get_dataloader(\n",
    "train_dataloader = ds_loader.get_dataloader(\n",
    "    data_path=Config.dataset_dir,\n",
    "    indices=train_indices,\n",
    "    transformation=td.get_transform('siamese', is_small=Config.is_small_resize),\n",
    "    batch_size=Config.train_batch_size,\n",
    "    num_workers=Config.num_workers,\n",
    "    should_invert = False\n",
    ")\n",
    "\n",
    "val_dataloader = ds_loader.get_dataloader(\n",
    "    data_path=Config.dataset_dir,\n",
    "    indices=val_indices,\n",
    "    transformation=td.get_transform('siamese_valid_and_test', is_small=Config.is_small_resize),\n",
    "    batch_size=Config.val_batch_size,\n",
    "    num_workers=Config.num_workers,\n",
    "    should_invert = False\n",
    ")\n",
    "\n",
    "test_dataloader = ds_loader.get_dataloader(\n",
    "    data_path=Config.dataset_dir,\n",
    "    indices=test_indices,\n",
    "    transformation=td.get_transform('siamese_valid_and_test', is_small=Config.is_small_resize),\n",
    "    batch_size=Config.test_batch_size,\n",
    "    num_workers=Config.num_workers,\n",
    "    should_invert = False\n",
    ")\n",
    "vis_dataloader = ds_loader.get_dataloader(\n",
    "    data_path=Config.dataset_dir,\n",
    "    indices=train_indices,\n",
    "    transformation=td.get_transform('siamese', is_small=Config.is_small_resize),\n",
    "    batch_size=Config.vis_batch_size,\n",
    "    num_workers=Config.num_workers,\n",
    "    should_invert = False\n",
    ")"
   ]
  },
  {
   "cell_type": "code",
   "execution_count": null,
   "metadata": {
    "tags": []
   },
   "outputs": [],
   "source": [
    "# visualize some data....\n",
    "dataiter = iter(vis_dataloader)\n",
    "\n",
    "example_batch = next(dataiter)\n",
    "concatenated = torch.cat((example_batch[0], example_batch[1]),0)\n",
    "imshow(make_grid(concatenated))\n",
    "print(example_batch[2].numpy())"
   ]
  },
  {
   "cell_type": "code",
   "execution_count": null,
   "metadata": {
    "tags": []
   },
   "outputs": [],
   "source": [
    "# Definde Model and load to device\n",
    "if Config.NN_SIAMESE == False:\n",
    "    model = mobilenet_v2(pretrained=True)\n",
    "    model.features[0][0] = nn.Conv2d(1, 32, kernel_size=(3, 3), stride=(2, 2), padding=(1, 1), bias=False)\n",
    "    #model.classifier[1] = nn.Linear(in_features=model.classifier[1].in_features, out_features=47)\n",
    "    model.classifier = nn.Sequential(*list(model.classifier.children())[:-2])\n",
    "    \n",
    "    layers = []\n",
    "    \n",
    "    #for layer in model.features[0]:\n",
    "    #    layers.append(layer)\n",
    "    #model.features[0][0] = nn.ReflectionPad2d(1)\n",
    "    #model.features[0][1] = layers[0]\n",
    "    #model.features[0][2] = layers[1]\n",
    "    #model.features[0].add_module('3', layers[2])\n",
    "\n",
    "    #list(model.features[2].children())[0].add_module('4', nn.Dropout2d(0.4))\n",
    "    #list(model.features[3].children())[0].add_module('4', nn.Dropout2d(0.4))\n",
    "    #list(model.features[6].children())[0].add_module('4', nn.Dropout2d(0.4))\n",
    "    #list(model.features[8].children())[0].add_module('4', nn.Dropout2d(0.4))\n",
    "    #list(model.features[10].children())[0].add_module('4', nn.Dropout2d(0.4))\n",
    "    #list(model.features[12].children())[0].add_module('4', nn.Dropout2d(0.4))\n",
    "    #list(model.features[14].children())[0].add_module('4', nn.Dropout2d(0.4))\n",
    "    #list(model.features[16].children())[0].add_module('4', nn.Dropout2d(0.4))\n",
    "   \n",
    "\n",
    "\n",
    "else:\n",
    "    model = SiameseNetwork()\n",
    "\n",
    "\n",
    "device = get_device()\n",
    "print(device)\n",
    "model.to(device)\n",
    "\n",
    "contrastive_loss_siamese = ContrastiveLossFunction(Config.margin)\n",
    "optimizer_siamese = torch.optim.Adam(model.parameters(),lr = Config.LEARNINGRATE)"
   ]
  },
  {
   "cell_type": "code",
   "execution_count": null,
   "metadata": {},
   "outputs": [],
   "source": [
    "#To Define which Layers we want to train\n",
    "for param in model.parameters():\n",
    "    param.requires_grad = False\n",
    "\n",
    "sub_layer = list(model.features.children())\n",
    "unfreezed = [13,14,15,16,17,18]\n",
    "for u in unfreezed:\n",
    "    for param in sub_layer[u].parameters():\n",
    "        param.requires_grad = True"
   ]
  },
  {
   "cell_type": "code",
   "execution_count": null,
   "metadata": {
    "tags": []
   },
   "outputs": [],
   "source": [
    "# To show trainable parameters\n",
    "from DLBio.pytorch_helpers import get_num_params\n",
    "\n",
    "get_num_params(model,True)"
   ]
  },
  {
   "cell_type": "code",
   "execution_count": null,
   "metadata": {},
   "outputs": [],
   "source": [
    "#l.build_graph(model, torch.zeros([32, 1, 3, 3]))"
   ]
  },
  {
   "cell_type": "code",
   "execution_count": null,
   "metadata": {
    "tags": []
   },
   "outputs": [],
   "source": [
    "# opening the file with w+ mode truncates the file (clear file before training)\n",
    "f = open('log_dist_label.csv', 'w+')\n",
    "f.close()\n",
    "\n",
    "training = Training(model=model, optimizer=optimizer_siamese,train_dataloader=train_dataloader, val_dataloader=val_dataloader, loss_contrastive=contrastive_loss_siamese, nn_Siamese=Config.NN_SIAMESE, THRESHOLD=Config.TRESHOLD_VER)\n",
    "\n",
    "epochs, loss_history, val_loss_history, acc_history, val_acc_history = training(Config.EPOCHS)\n",
    "show_plot(epochs, loss_history, val_loss_history,'train_loss', 'val_loss',1)\n",
    "show_plot(epochs, acc_history, val_acc_history,'train_acc', 'val_acc', 2)"
   ]
  },
  {
   "cell_type": "code",
   "execution_count": null,
   "metadata": {},
   "outputs": [],
   "source": [
    "#epochs = epochs[1:]\n",
    "#loss_history = loss_history[1:]\n",
    "#val_loss_history = val_loss_history[1:]\n",
    "#show_plot(epochs, loss_history, val_loss_history,'train_loss', 'val_loss',1)"
   ]
  },
  {
   "cell_type": "code",
   "execution_count": null,
   "metadata": {
    "tags": []
   },
   "outputs": [],
   "source": [
    "def calc_thresh():\n",
    "    with open('log_dist_label.csv', 'r') as f:\n",
    "        reader = csv.reader(f, quoting=csv.QUOTE_NONNUMERIC)\n",
    "        # data = list(reader)\n",
    "        data = [tuple(row) for row in reader]\n",
    "\n",
    "        thresh_same, thresh_diff = [], []\n",
    "        for idx, (thresh,label) in enumerate(data):\n",
    "            if idx > 32000:\n",
    "                if label == 0: thresh_same.append(thresh) # Images came from same person\n",
    "                else: thresh_diff.append(thresh)\n",
    "        average_thresh_same = sum(thresh_same) / len(thresh_same)\n",
    "        average_thresh_diff = sum(thresh_diff) / len(thresh_diff)\n",
    "        print(\"Average dist different: \", average_thresh_diff)\n",
    "        print('Amount of \"same\" distances: ', len(thresh_same))\n",
    "    return average_thresh_same\n",
    "\n",
    "print(\"Average dist same: \", calc_thresh())"
   ]
  },
  {
   "cell_type": "code",
   "execution_count": null,
   "metadata": {},
   "outputs": [],
   "source": [
    "# tn Bilder nicht gleich, Distanz größer als THRESH\n",
    "# fp Bilder nicht gleich, Distanz kleiner als THRESH\n",
    "# fn Bilder gleich, Distanz größer als THRESH\n",
    "# tp Bilder gleich, Distanz kleiner als THRESH\n",
    "\n",
    "def calc_test_label(thresh=Config.TRESHOLD_VER):\n",
    "    '''\n",
    "    This function processes the test dataloader and returns the true labels and the predicted labels (depending on a threshold)\n",
    "    Arguments\n",
    "    ---------\n",
    "    thresh:     Threshold for \"same-different\" classification\n",
    "                default is the Config set threshhold\n",
    "                \n",
    "\n",
    "    Returns\n",
    "    ---------\n",
    "    Two lists of same length as image tuples in test loader with labels 1 or 0\n",
    "    '''\n",
    "    ground_truth_label, prediction_label = [], []\n",
    "\n",
    "    for data in test_dataloader:\n",
    "        # use training class for data extraction\n",
    "        label, output1, output2 = training.get_label_outputs(data)\n",
    "        # extend labels of the ground truth\n",
    "        ground_truth_label.extend(label.flatten().tolist())\n",
    "        # Extend the distance-threshold prediction\n",
    "        prediction_label.extend(M.batch_predictions_bin(output1, output2, thresh))\n",
    "    # lists containing all image tuple labels or predictions\n",
    "    return ground_truth_label, prediction_label\n",
    "\n",
    "ground_truth, prediction = calc_test_label(Config.TRESHOLD_VER)\n",
    "# get confusion matrix\n",
    "cf = M.cf_matrix(ground_truth, prediction)"
   ]
  },
  {
   "cell_type": "code",
   "execution_count": null,
   "metadata": {
    "tags": []
   },
   "outputs": [],
   "source": [
    "# Set parameters for confusion_matrix plot\n",
    "labels = ['True Pos','False Neg','False Pos','True Neg']\n",
    "categories = ['Same', 'Different']\n",
    "\n",
    "# plot matrix\n",
    "M.make_confusion_matrix(cf,\n",
    "                        group_names=labels,\n",
    "                        categories=categories,\n",
    "                        cbar=True\n",
    "                        )"
   ]
  },
  {
   "cell_type": "code",
   "execution_count": null,
   "metadata": {},
   "outputs": [],
   "source": [
    "#model = torch.load('/Users/falcolentzsch/Develope/Bachelorthesis/Bachelorthesis/models/model.pt')"
   ]
  },
  {
   "cell_type": "code",
   "execution_count": null,
   "metadata": {},
   "outputs": [],
   "source": [
    "#torch.save(model,'/nfshome/lentzsch/Documents/Bachelorarbeit/Bachelorthesis/models/ve_g_margin2,0_.pt')"
   ]
  },
  {
   "cell_type": "code",
   "execution_count": null,
   "metadata": {},
   "outputs": [],
   "source": []
  }
 ],
 "metadata": {
  "hide_input": false,
  "kernelspec": {
   "name": "python3",
   "display_name": "Python 3.6.8 64-bit ('ear')",
   "metadata": {
    "interpreter": {
     "hash": "c2e483ab6d2869a436ac078172a85a5d29909efb0d20a1467c5a44ad2f46e474"
    }
   }
  },
  "language_info": {
   "codemirror_mode": {
    "name": "ipython",
    "version": 3
   },
   "file_extension": ".py",
   "mimetype": "text/x-python",
   "name": "python",
   "nbconvert_exporter": "python",
   "pygments_lexer": "ipython3",
   "version": "3.6.8-final"
  }
 },
 "nbformat": 4,
 "nbformat_minor": 2
}