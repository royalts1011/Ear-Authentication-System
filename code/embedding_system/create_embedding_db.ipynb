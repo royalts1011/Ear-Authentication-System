{
 "cells": [
  {
   "cell_type": "code",
   "execution_count": 1,
   "metadata": {},
   "outputs": [],
   "source": [
    "import sys\n",
    "sys.path.append('../..')\n",
    "import numpy as np\n",
    "from PIL import Image\n",
    "import glob\n",
    "# PyTorch\n",
    "import torch\n",
    "from torch import cuda\n",
    "from torch.autograd import Variable\n",
    "# DLBio and own scripts\n",
    "from DLBio.pytorch_helpers import get_device\n",
    "import transforms_data as td"
   ]
  },
  {
   "cell_type": "code",
   "execution_count": 2,
   "metadata": {},
   "outputs": [],
   "source": [
    "class Config():\n",
    "    DEVICE = get_device()\n",
    "    DATASET_DIR = '../dataset/'\n",
    "    MODEL_DIR = './models/ve_g_margin_3,0.pt'\n",
    "    is_small_resize = False\n",
    "    DATABASE_FOLDER = './embeddings/'"
   ]
  },
  {
   "cell_type": "code",
   "execution_count": 3,
   "metadata": {},
   "outputs": [],
   "source": [
    "model = torch.load(Config.MODEL_DIR, map_location=torch.device(Config.DEVICE))\n",
    "transformation = td.get_transform('siamese_valid_and_test', Config.is_small_resize)\n",
    "# model.eval()"
   ]
  },
  {
   "cell_type": "code",
   "execution_count": 4,
   "metadata": {},
   "outputs": [],
   "source": [
    "def pipeline(input_, preprocess):\n",
    "    input_ = input_.convert(\"L\")\n",
    "    input_ = preprocess(input_)\n",
    "    input_ = input_.reshape(-1, td.get_resize(Config.is_small_resize)[0], td.get_resize(Config.is_small_resize)[1], 1)\n",
    "    input_ = input_.permute(3, 0, 1, 2)   \n",
    "    if cuda.is_available():\n",
    "        return input_.type('torch.cuda.FloatTensor')\n",
    "    else:\n",
    "        return input_.type('torch.FloatTensor')"
   ]
  },
  {
   "cell_type": "code",
   "execution_count": 5,
   "metadata": {},
   "outputs": [],
   "source": [
    "for label in os.listdir(Config.DATASET_DIR):\n",
    "    embeddings = []\n",
    "    image_list = []\n",
    "    for filename in glob.glob(Config.DATASET_DIR+label+'/*'): \n",
    "        img = Image.open(filename)\n",
    "        img_processed = pipeline(img,transformation)\n",
    "        image_list.append(img_processed)\n",
    "    \n",
    "    embeddings = np.array([model(Variable(i)).cpu() for i in image_list])\n",
    "    \n",
    "    np.save(Config.DATABASE_FOLDER+label+'.npy', embeddings)    "
   ]
  },
  {
   "cell_type": "code",
   "execution_count": null,
   "metadata": {},
   "outputs": [],
   "source": []
  }
 ],
 "metadata": {
  "language_info": {
   "codemirror_mode": {
    "name": "ipython",
    "version": 3
   },
   "file_extension": ".py",
   "mimetype": "text/x-python",
   "name": "python",
   "nbconvert_exporter": "python",
   "pygments_lexer": "ipython3",
   "version": "3.7.8-final"
  },
  "orig_nbformat": 2,
  "kernelspec": {
   "name": "python37764bitbachelorthesisvenvfe65d2ae6af74790a8c3d2ed63037c92",
   "display_name": "Python 3.7.7 64-bit ('Bachelorthesis': venv)"
  }
 },
 "nbformat": 4,
 "nbformat_minor": 2
}